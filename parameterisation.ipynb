{
 "cells": [
  {
   "cell_type": "code",
   "execution_count": null,
   "metadata": {
    "collapsed": false,
    "tags": [
     "worksheet-0"
    ]
   },
   "outputs": [],
   "source": [
    "import re\n",
    "\n",
    "import sulfur\n",
    "import numpy as np\n",
    "import scipy\n",
    "import matplotlib.pyplot as plt\n",
    "%matplotlib inline"
   ]
  },
  {
   "cell_type": "markdown",
   "metadata": {
    "collapsed": true,
    "tags": [
     "worksheet-0"
    ]
   },
   "source": [
    "# Fitting $\\mu_S$: second attempt"
   ]
  },
  {
   "cell_type": "markdown",
   "metadata": {
    "collapsed": true,
    "tags": [
     "worksheet-0"
    ]
   },
   "source": [
    "Some previous attempts  fitting polynomials has proven problematic. This is likely due to over-fitting, particularly at pressures where one polynomial is sufficient to describe the behaviour. We therefore try a more rational approach in which many parameters are assumed to be pressure invariant."
   ]
  },
  {
   "cell_type": "markdown",
   "metadata": {
    "collapsed": true,
    "tags": [
     "worksheet-0"
    ]
   },
   "source": [
    "For a single species, we would expect a polynomial in temperature with a pressure correction to provide a sufficient model:\n",
    "\n",
    "\\begin{equation}\n",
    "\\mu_{S_i}(T,P) = f(T) + f(T,P) \\approx a + bT + cT^2 + dT^3 + RT \\log \\frac{P}{P_{ref}}\n",
    "\\end{equation}\n",
    "\n",
    "We can check this against some model data:"
   ]
  },
  {
   "cell_type": "code",
   "execution_count": null,
   "metadata": {
    "collapsed": false,
    "tags": [
     "worksheet-0"
    ]
   },
   "outputs": [],
   "source": [
    "import ase.db\n",
    "import ase.thermochemistry\n",
    "from scipy import constants\n",
    "from sulfur import cm_to_hz, reference_energy\n",
    "#from sulfur.core import get_potentials, unpack_data, reference_energy, solve_composition\n",
    "db_file = sulfur.__path__[0] + '/../data/sulfur_pbe0_96.json'\n",
    "ref_energy = reference_energy(db_file)\n",
    "c = ase.db.connect(db_file)\n",
    "s8_dict = c.get_dict('S8')\n",
    "s8_atoms = c.get_atoms('S8')\n",
    "s8_vib_energies = cm_to_hz(np.array(s8_dict.data.frequencies)) * constants.physical_constants['Planck constant in eV s'][0]\n",
    "s8_thermo = ase.thermochemistry.IdealGasThermo(s8_vib_energies, s8_dict.data.geometry, \n",
    "                                               electronicenergy=s8_atoms.get_total_energy() - ref_energy*8, \n",
    "                                               atoms=s8_atoms, symmetrynumber=s8_dict.data.symmetry, spin=0)"
   ]
  },
  {
   "cell_type": "markdown",
   "metadata": {
    "collapsed": true,
    "tags": [
     "worksheet-0"
    ]
   },
   "source": [
    "Fitting to 1 bar standard pressure:"
   ]
  },
  {
   "cell_type": "code",
   "execution_count": null,
   "metadata": {
    "collapsed": false,
    "tags": [
     "worksheet-0"
    ]
   },
   "outputs": [],
   "source": [
    "T = np.linspace(100,1500,100)\n",
    "mu_s8_eV_1bar = [s8_thermo.get_gibbs_energy(t,1E5, verbose=False) for t in T]\n",
    "s8_polyfits = [scipy.polyfit(T,mu_s8_eV_1bar,i) for i in range(2,5)]"
   ]
  },
  {
   "cell_type": "code",
   "execution_count": null,
   "metadata": {
    "collapsed": false,
    "tags": [
     "worksheet-0"
    ]
   },
   "outputs": [],
   "source": [
    "def rms_diff(iter1, iter2):\n",
    "    \"Calculate the root mean square difference between two iterables\"\n",
    "    iter1, iter2 = np.array(iter1), np.array(iter2)\n",
    "    diff = iter1 - iter2\n",
    "    return np.sqrt(np.mean(np.square(diff)))\n",
    "\n",
    "plt.plot(T,mu_s8_eV_1bar, label=\"ASE thermochemistry object\")\n",
    "i=2\n",
    "for fit in s8_polyfits:\n",
    "    mu = scipy.polyval(fit, T)\n",
    "    plt.plot(T, mu, label='order {0} polynomial: RMS err {1:5.4f}'.format(i, rms_diff(mu_s8_eV_1bar, mu)))\n",
    "    i += 1\n",
    "plt.legend(loc='best')\n",
    "plt.xlabel('Temperature / K'); plt.ylabel('$\\mu$ / eV atom$^{-1}$'); plt.title('$P$ = 1 bar')"
   ]
  },
  {
   "cell_type": "markdown",
   "metadata": {
    "collapsed": true,
    "tags": [
     "worksheet-0"
    ]
   },
   "source": [
    "We see that fitting is quite adequate even with an order-2 polynomial. Adding the pressure correction should be harmless as the same ideal gas law is used internally by the ASE thermochemistry object."
   ]
  },
  {
   "cell_type": "code",
   "execution_count": null,
   "metadata": {
    "collapsed": false,
    "tags": [
     "worksheet-0"
    ]
   },
   "outputs": [],
   "source": [
    "k = scipy.constants.physical_constants['Boltzmann constant in eV/K'][0]\n",
    "mu_s8_eV_1kPa = [s8_thermo.get_gibbs_energy(t,1E3, verbose=False) for t in T]\n",
    "plt.plot(T,mu_s8_eV_1kPa, 'k:', linewidth=5, label=\"ASE thermochemistry object\")\n",
    "i=2\n",
    "for fit in s8_polyfits:\n",
    "    mu = scipy.polyval(fit, T) + k*T*np.log(1E3/1E5)\n",
    "    plt.plot(T, mu, label='order {0} polynomial: RMS err {1:5.4f}'.format(i, rms_diff(mu_s8_eV_1kPa, mu)))\n",
    "    i += 1\n",
    "plt.legend(loc='best')\n",
    "plt.xlabel('Temperature / K'); plt.ylabel('$\\mu$ / eV molecule$^{-1}$'); plt.title('$P$ = 1 kPa')"
   ]
  },
  {
   "cell_type": "markdown",
   "metadata": {
    "collapsed": true,
    "tags": [
     "worksheet-0"
    ]
   },
   "source": [
    "Reassuringly, the fitting error is completely unaffected. The next step is to create an equivalent fit for the S2 species."
   ]
  },
  {
   "cell_type": "code",
   "execution_count": null,
   "metadata": {
    "collapsed": false,
    "tags": [
     "worksheet-0"
    ]
   },
   "outputs": [],
   "source": [
    "s2_dict = c.get_dict('S2')\n",
    "s2_atoms = c.get_atoms('S2')\n",
    "s2_vib_energies = cm_to_hz(np.array(s2_dict.data.frequencies)) * constants.physical_constants['Planck constant in eV s'][0]\n",
    "s2_thermo = ase.thermochemistry.IdealGasThermo(s2_vib_energies, s2_dict.data.geometry, \n",
    "                                               electronicenergy=s2_atoms.get_total_energy() - ref_energy*2, \n",
    "                                               atoms=s2_atoms, symmetrynumber=s2_dict.data.symmetry, spin=0)\n",
    "mu_s2_eV_1bar = [s2_thermo.get_gibbs_energy(t,1E5, verbose=False) for t in T]\n",
    "s2_polyfits = [scipy.polyfit(T,mu_s2_eV_1bar,i) for i in range(2,5)]\n",
    "\n",
    "plt.plot(T,mu_s2_eV_1bar, label=\"ASE thermochemistry object\")\n",
    "i=2\n",
    "for fit in s2_polyfits:\n",
    "    mu = scipy.polyval(fit, T)\n",
    "    plt.plot(T, mu, label='order {0} polynomial: RMS err {1:5.4f}'.format(i, rms_diff(mu_s2_eV_1bar, mu)))\n",
    "    i += 1\n",
    "plt.legend(loc='best')\n",
    "plt.xlabel('Temperature / K'); plt.ylabel('$\\mu$ / eV molecule$^{-1}$'); plt.title('$P$ = 1 bar')"
   ]
  },
  {
   "cell_type": "markdown",
   "metadata": {
    "collapsed": true,
    "tags": [
     "worksheet-0"
    ]
   },
   "source": [
    "Dividing through by the number of atoms these relations should give a good start for fitting the solution for the mixture."
   ]
  },
  {
   "cell_type": "code",
   "execution_count": null,
   "metadata": {
    "collapsed": false,
    "tags": [
     "worksheet-0"
    ]
   },
   "outputs": [],
   "source": [
    "eqm_file =  sulfur.__path__[0] + '/../data/precise/mu_pbe0_scaled.csv'\n",
    "try:\n",
    "    eqm_table = np.genfromtxt(eqm_file, skip_header=1, delimiter=',')\n",
    "except IOError:\n",
    "    raise Exception(\"Need data for gas mixture. Try running 'plots.py' from the 'scripts' folder of the sulfur-model code.\")\n",
    "\n",
    "T_table = eqm_table[:,0]\n",
    "with open(eqm_file,'r') as f:\n",
    "    file_header = f.readline() # Read header in format # T/unit,mu (X Pa) / unit, mu (X Pa) / unit..."
   ]
  },
  {
   "cell_type": "code",
   "execution_count": null,
   "metadata": {
    "collapsed": false,
    "tags": [
     "worksheet-0"
    ]
   },
   "outputs": [],
   "source": [
    "eV2jmol = constants.physical_constants['electron volt-joule relationship'][0]*constants.N_A"
   ]
  },
  {
   "cell_type": "code",
   "execution_count": null,
   "metadata": {
    "collapsed": false,
    "tags": [
     "worksheet-0"
    ]
   },
   "outputs": [],
   "source": [
    "P_table = [np.double(p) for p in re.findall('(?<=mu \\()[\\d.]+(?= [A-z]*\\))', file_header)]\n",
    "\n",
    "P_units = re.findall('[A-z]+(?=\\))', file_header)\n",
    "for unit in P_units:\n",
    "    if unit != 'Pa':\n",
    "        raise Exception(\"Sorry, only Pa supported for now\")\n",
    "        \n",
    "for i, p in enumerate(P_table):\n",
    "    plt.plot(T_table, eqm_table[:,i+1])\n",
    "    plt.plot(T, (scipy.polyval(s2_polyfits[-1],T) + k*T*np.log(p/1.0E5)) * eV2jmol/2, 'r:')\n",
    "    plt.plot(T, (scipy.polyval(s8_polyfits[-1],T) + k*T*np.log(p/1.0E5)) * eV2jmol/8, 'k:')\n",
    "    \n",
    "plt.xlabel('Temperature / T'); plt.ylabel('$\\mu$ / J mol$^{-1}$ atoms')"
   ]
  },
  {
   "cell_type": "markdown",
   "metadata": {
    "collapsed": true,
    "tags": [
     "worksheet-0"
    ]
   },
   "source": [
    "Otherwise, this is quite encouraging. It appears that a decent parameterisation may be formed by \"switching\" between these two well-defined potentials. A natural starting point for this switch-over is the point at which the free energies are equal on an atom basis. A little analysis reduces this to a polynomial problem in T at a given P.\n",
    "\n",
    "\\begin{align}\n",
    "  \\frac{\\mu_{S_8} (T,P)}{8} &= \\frac{\\mu_{S_2} (T,P)}{2} \\\\\n",
    "  \\frac{\\sum\\limits^N_{i=0} x_{{S_8},i} T^i + k T \\ln \\frac{P}{P_{\\mathrm{ref}}}}{8} &=\n",
    "    \\frac{\\sum\\limits^N_{i=0} x_{{S_2},i} T^i + k T \\ln \\frac{P}{P_{\\mathrm{ref}}}}{2} \\\\\n",
    "  \\sum\\limits^N_{i=0} x_{{S_8},i} T^i + k T \\ln \\frac{P}{P_{\\mathrm{ref}}} &=\n",
    "  \\sum\\limits^N_{i=0} 4 x_{{S_2},i} T^i + 4 k T \\ln \\frac{P}{P_{\\mathrm{ref}}} \\\\\n",
    "  \\sum\\limits^N_{i=0} \\left(x_{{S_8},i} - 4 x_{{S_2},i} \\right) T^i &=\n",
    "  (4-1) k T \\ln \\frac{P}{P_{\\mathrm{ref}}} \\\\\n",
    "  \\left[ x_{{S_8},0} - 4 x_{{S_2},0} \\right] +\n",
    "  \\left[ x_{{S_8},1} - 4 x_{{S_2},1} - 3 k \\ln \\frac{P}{P_{\\mathrm{ref}}} \\right] T &+\n",
    "  \\sum\\limits^N_{i=2} \\left[ x_{{S_8},i} - 4 x_{{S_2},i} \\right] T^i = 0\n",
    "\\end{align}"
   ]
  },
  {
   "cell_type": "code",
   "execution_count": null,
   "metadata": {
    "collapsed": false,
    "tags": [
     "worksheet-0"
    ]
   },
   "outputs": [],
   "source": [
    "def mu_poly_intersect(poly1, n1, poly2, n2, P):\n",
    "    \"\"\"The point of intersection between two free energy plots, described by polynomials such that mu = (polynomial)(T) + kT ln(P/1bar)\"\"\"\n",
    "    if len(poly1) != len(poly2):\n",
    "        raise Exception(\"polynomials must be same length\")\n",
    "        \n",
    "    ratio = (n1 + 0.0)/n2\n",
    "        \n",
    "    def build_poly(poly1, poly2, ratio, p):\n",
    "        \"\"\"Build up polynomial to solve.\n",
    "        \n",
    "        Note that numpy polynomials follow algebraic convention and start with highest power.\n",
    "        \"\"\"\n",
    "\n",
    "        poly = [poly1[-1] - ratio*poly2[-1]]\n",
    "        poly = [(poly1[-2]-ratio*poly2[-2]-(ratio-1)*k*np.log(p/1.0E5))] + poly\n",
    "        poly = [x1-ratio*x2 for x1, x2 in zip(poly1[:-2],poly2[:-2])] + poly\n",
    "        return poly\n",
    "            \n",
    "    T_intersect = []\n",
    "    if not hasattr(P, '__iter__'):\n",
    "        P = [P]\n",
    "    for p in P:\n",
    "        poly_to_solve = build_poly(poly1, poly2, ratio, p)\n",
    "        roots = np.roots(poly_to_solve)\n",
    "        best_root = False\n",
    "        for root in roots:\n",
    "            if root == root.real and root > 0 and best_root == False:\n",
    "                best_root = root.real\n",
    "            elif root == root.real and root > 0 and root < best_root:\n",
    "                best_root = root.real\n",
    "        if best_root:\n",
    "            T_intersect.append(best_root)\n",
    "        else:\n",
    "            T_intersect.append('NaN')\n",
    "    return [t.real for t in T_intersect]\n",
    "\n",
    "mu_poly_intersect(s8_polyfits[-1], 8, s2_polyfits[-1], 2, (1E3, 1E4))"
   ]
  },
  {
   "cell_type": "code",
   "execution_count": null,
   "metadata": {
    "collapsed": false,
    "tags": [
     "worksheet-0"
    ]
   },
   "outputs": [],
   "source": [
    "for i, p in enumerate(P_table):\n",
    "    # plt.plot(T_table, eqm_table[:,i+1])\n",
    "    plt.plot(T, (scipy.polyval(s2_polyfits[-1],T) + k*T*np.log(p/1.0E5)) * eV2jmol/2, 'r:')\n",
    "    plt.plot(T, (scipy.polyval(s8_polyfits[-1],T) + k*T*np.log(p/1.0E5)) * eV2jmol/8, 'k:')\n",
    "\n",
    "T_intersect = mu_poly_intersect(s8_polyfits[-1], 8, s2_polyfits[-1], 2, P_table)\n",
    "for t in T_intersect:\n",
    "    plt.axvline(x=t, ymin=0, ymax=1)\n",
    "plt.xlim([min(T), max(T)]) \n",
    "plt.xlabel('Temperature / T'); plt.ylabel('$\\mu$ / J mol$^{-1}$ atoms')"
   ]
  },
  {
   "cell_type": "markdown",
   "metadata": {},
   "source": [
    "This looks very promising. Plotting a large set of solutions, we find a satisfactory cubic parameterisation."
   ]
  },
  {
   "cell_type": "code",
   "execution_count": null,
   "metadata": {
    "collapsed": false
   },
   "outputs": [],
   "source": [
    "P = 10**(np.linspace(1,7,100))\n",
    "T_tr = mu_poly_intersect(s8_polyfits[-1],8,s2_polyfits[-1],2,P)\n",
    "plt.plot(np.log10(P),T_tr, 'k-', label='Transition T')\n",
    "\n",
    "T_tr_quad = np.polyfit(np.log10(P),T_tr,2)\n",
    "T_tr_cub = np.polyfit(np.log10(P),T_tr,3)\n",
    "plt.plot(np.log10(P), np.polyval(T_tr_quad, np.log10(P)), 'r:', label='Quadratic fit')\n",
    "plt.plot(np.log10(P), np.polyval(T_tr_cub, np.log10(P)), 'b:', linewidth=2, label='Cubic fit')\n",
    "plt.legend()"
   ]
  },
  {
   "cell_type": "markdown",
   "metadata": {
    "collapsed": true,
    "tags": [
     "worksheet-0"
    ]
   },
   "source": [
    "Next we need to implement a \"switching\" function between the two curves. The error function, $\\mathrm{erf}$ is a natural choice as it remains smooth under differential operations. We must introduce a couple of parameters in order to position the transition as desired. We also use the complementary error function, $\\mathrm{erfc} = \\mathrm{erf}$"
   ]
  },
  {
   "cell_type": "code",
   "execution_count": null,
   "metadata": {
    "collapsed": false,
    "tags": [
     "worksheet-0"
    ]
   },
   "outputs": [],
   "source": [
    "from scipy.special import erf, erfc\n",
    "\n",
    "x = np.linspace(-5,5,100)\n",
    "plt.plot(x, erf(x), label=r'$\\mathrm{erf}(x)$')\n",
    "plt.axvline(0,color='k')\n",
    "plt.plot(x, (erf(x-2)+1)/2, label=r'$\\frac{1}{2}\\left(\\mathrm{erf}(x-2) + 1\\right)$')\n",
    "plt.axvline(2, color='k', linestyle=':')\n",
    "plt.plot(x, (erfc((x+2.)/0.2))/2., label=r'$\\frac{1}{2}\\left(\\mathrm{erfc}\\left(\\frac{x - (-2)}{0.2} \\right) \\right)$')\n",
    "plt.axvline(-2, color='k', linestyle=':')\n",
    "plt.legend()"
   ]
  },
  {
   "cell_type": "markdown",
   "metadata": {
    "collapsed": true,
    "tags": [
     "worksheet-0"
    ]
   },
   "source": [
    "Our model for the mixture therefore becomes:\n",
    "\n",
    "\\begin{equation}\n",
    "\\mu_{S}(T,P) = \\frac{1}{2}\\left(\\mathrm{erfc}\\left(\\frac{T - T_{tr}}{w} \\right) \\right) \\left[\n",
    " \\frac{\\sum\\limits^N_{i=0} x_{{S_8},i} T^i + k T \\ln\n",
    "\\frac{P}{P_{\\mathrm{ref}}}}{8}\\right] +\n",
    "\\frac{1}{2}\\left(\\mathrm{erf}\\left(\\frac{T - T_{tr}}{w} \\right) +1 \\right)\n",
    "    \\frac{\\sum\\limits^N_{i=0} x_{{S_2},i} T^i + k T \\ln \\frac{P}{P_{\\mathrm{ref}}}}{2}\n",
    "\\end{equation}\n",
    "where $T_{tr} = f(P)$ is the transition temperature, and $w$ is a parameter controlling the width of the transition region."
   ]
  },
  {
   "cell_type": "code",
   "execution_count": null,
   "metadata": {
    "collapsed": false,
    "tags": [
     "worksheet-0"
    ]
   },
   "outputs": [],
   "source": [
    "def mu_model1(s8_poly, s2_poly, T, P, a=10, units='eV'):\n",
    "    \"\"\"Return mu in eV from single-parameter model of S2/S8 transition.\n",
    "    If T and/or P are iterable, return array with P in columns and T in rows\"\"\"\n",
    "\n",
    "    T_tr = mu_poly_intersect(s8_poly, 8, s2_poly, 2, P)\n",
    "    T = np.array(T)\n",
    "    T = T.reshape(-1,1) # Convert to column vector\n",
    "    \n",
    "    if hasattr(T, '__iter__'):\n",
    "        T = np.array(T)\n",
    "        T = T.reshape(-1,1) # Convert to column vector\n",
    "\n",
    "    if hasattr(P, '__iter__'):\n",
    "        P = np.array(P)\n",
    "        P = P.flatten() # Convert to a row vector\n",
    "    mu = (\n",
    "        0.5 * (erfc((T - T_tr)/a)) * (1./8.) * (np.polyval(s8_poly,T) + k*T*np.log(P/1E5)) +\n",
    "        0.5 * (erf((T - T_tr)/a)+1) *  (1./2.) * (np.polyval(s2_poly,T) + k*T*np.log(P/1E5))\n",
    "        # 0.5 * (1./8.) * (np.polyval(s8_poly,T) + k*T*np.log(P/1E5)) +\n",
    "        # 0.5 * (1./2.) * (np.polyval(s2_poly,T) + k*T*np.log(P/1E5))\n",
    "    )\n",
    "    if units in ('eV', 'eV atom-1', 'eV/atom'):\n",
    "        return mu\n",
    "    elif units in ('jmol','Jmol','jmol-1','Jmol-1','j/mol','J/mol'):\n",
    "        return mu * eV2jmol\n",
    "    elif units in ('kJmol','kjmol','kJmol-1','kjmol-1','kJ/mol','kj/mol'):\n",
    "        return mu * (eV2jmol * 1E-3)\n",
    "    else:\n",
    "        raise Exception('Units \\\"{0}\\\" not known. Try \\\"eV\\\", \\\"Jmol-1\\\" or \\\"kJmol-1\\\"'.format(units))"
   ]
  },
  {
   "cell_type": "code",
   "execution_count": null,
   "metadata": {
    "collapsed": false,
    "tags": [
     "worksheet-0"
    ]
   },
   "outputs": [],
   "source": [
    "mu_fit1 = mu_model1(s8_polyfits[-1], s2_polyfits[-1], T_table, P_table, a=100, units='Jmol')\n",
    "err = mu_fit1 - eqm_table[:,1:]\n",
    "plt.plot(T_table, eqm_table[:,1], label='table')\n",
    "plt.plot(T_table, mu_fit1[:,0], label='fit')\n",
    "plt.plot(T_table, (np.polyval(s8_polyfits[-1],T_table) + k*T_table*np.log(P_table[0]/1E5)) * eV2jmol * 1./8., label='s8 fit')\n",
    "plt.legend()"
   ]
  },
  {
   "cell_type": "markdown",
   "metadata": {
    "collapsed": true,
    "tags": [
     "worksheet-0"
    ]
   },
   "source": [
    "This is very effective! The next step is to look at a high-pressure system where the transition region is broader."
   ]
  },
  {
   "cell_type": "code",
   "execution_count": null,
   "metadata": {
    "collapsed": false,
    "tags": [
     "worksheet-0"
    ]
   },
   "outputs": [],
   "source": [
    "plt.plot(T_table, eqm_table[:,-1], label='table')\n",
    "plt.plot(T_table, mu_fit1[:,-1], label='fit')\n",
    "plt.plot(T_table, (np.polyval(s8_polyfits[-1],T_table) + k*T_table*np.log(P_table[-1]/1E5)) * eV2jmol * 1./8., label='s8 fit')\n",
    "plt.title('{0} Pa'.format(P_table[-1]))\n",
    "plt.legend()\n"
   ]
  },
  {
   "cell_type": "markdown",
   "metadata": {
    "collapsed": true,
    "tags": [
     "worksheet-0"
    ]
   },
   "source": [
    "The parameter $a$ smoothes the transition, but does not account for the slight depression in energy at the transition. In fact, mixing in the higher S$_2$ energy slightly before the transition results in the energy being overestimated before the transition."
   ]
  },
  {
   "cell_type": "code",
   "execution_count": null,
   "metadata": {
    "collapsed": false
   },
   "outputs": [],
   "source": [
    "for i_p, p in enumerate(P_table):\n",
    "    plt.plot(T_table, err[:,i_p], label='{0:3.0e} Pa'.format(p))\n",
    "for t in T_intersect:\n",
    "    plt.axvline(x=t, ymin=0, ymax=1, color='k', linestyle=':')\n",
    "plt.legend(loc='upper center', ncol=3, bbox_to_anchor=(0.5,-0.1))"
   ]
  },
  {
   "cell_type": "markdown",
   "metadata": {},
   "source": [
    "This error looks as though it would be well approximated by a gaussian function\n",
    "\\begin{equation}\n",
    "\\epsilon = a e^{-\\frac{(T-b)^2}{2c^2}}\n",
    "\\end{equation}\n",
    "where the position $b$ is close to the estimated transition temperature, the width $c$ is roughly constant and the height $a$ increases with pressure."
   ]
  },
  {
   "cell_type": "code",
   "execution_count": null,
   "metadata": {
    "collapsed": false
   },
   "outputs": [],
   "source": [
    "from scipy.optimize import curve_fit\n",
    "def gaussian(x, a, b, c):\n",
    "    return a * np.exp(-((x-b)**2)/(2*c**2))\n",
    "\n",
    "\n",
    "print \"| Pressure / Pa | a (height) | b (position) | c (width) | b-T(trans) |\"\n",
    "print \"|---------------|------------|--------------|-----------|------------|\"\n",
    "for i_p, p in enumerate(P_table):\n",
    "    popt, pcov = curve_fit(gaussian, T_table, err[:,i_p], p0=(2000,T_intersect[i_p], 200))\n",
    "    a, b, c = popt\n",
    "    plt.plot(T_table, err[:,i_p])\n",
    "    plt.plot(T_table, gaussian(T_table, *popt), linestyle=':', color='k', linewidth=2)\n",
    "    print \"|    {0:3.2e}   | {1:8.1f}   |   {2:8.1f}   | {3:8.2f}  | {4:8.2f}   |\".format(p, a, b, c, b-T_intersect[i_p])"
   ]
  },
  {
   "cell_type": "markdown",
   "metadata": {},
   "source": [
    "The width appears to be fairly consistent, and the location on the T-axis closely tracks the estimated transition T. The relationship between peak height and log(P) appears to be smooth and nonlinear; a quadratic fit suffices."
   ]
  },
  {
   "cell_type": "code",
   "execution_count": null,
   "metadata": {
    "collapsed": false
   },
   "outputs": [],
   "source": [
    "a = [curve_fit(gaussian, T_table, err[:,i_p], p0=(2000,T_intersect[i_p], 200))[0][0] for i_p, p in enumerate(P_table)]\n",
    "plt.plot(np.log10(P_table), a,'bo', label=r'Optimal values of $a$')\n",
    "plt.xlabel(r'$\\log_{10}(P)$')\n",
    "plt.ylabel(r'$a$')\n",
    "\n",
    "quad_fit_a = np.polyfit(np.log10(P_table), a, 2)\n",
    "plt.plot(np.log10(P_table), np.polyval(quad_fit_a, np.log10(P_table)),'r:', label='Quadratic fit')\n",
    "plt.legend()"
   ]
  },
  {
   "cell_type": "markdown",
   "metadata": {},
   "source": [
    "It seems therefore that we can form a reasonable parameterisation with the following model:\n",
    "\n",
    "\\begin{equation}\n",
    "\\mu_{S}(T,P) = \\frac{1}{2}\\left(\\mathrm{erfc}\\left(\\frac{T - T_{tr}}{w} \\right) \\right) \\left[\n",
    " \\frac{\\sum\\limits^N_{i=0} x_{{S_8},i} T^i + k T \\ln\n",
    "\\frac{P}{P_{\\mathrm{ref}}}}{8}\\right] +\n",
    "\\frac{1}{2}\\left(\\mathrm{erf}\\left(\\frac{T - T_{tr}}{w} \\right) +1 \\right)\n",
    "    \\frac{\\sum\\limits^N_{i=0} x_{{S_2},i} T^i + k T \\ln \\frac{P}{P_{\\mathrm{ref}}}}{2}\n",
    "    - (a_0 + a_1 \\log_{10}(P) + a_2 (\\log_{10}(P))^2 ) \\exp\\left({-\\frac{(T-(T_{tr}-b)))^2}{2c^2}}\\right)\n",
    "\\end{equation}\n",
    "where $T_{tr}$ is represented by a polynomial in $\\log_{10}(P)$."
   ]
  },
  {
   "cell_type": "code",
   "execution_count": null,
   "metadata": {
    "collapsed": false
   },
   "outputs": [],
   "source": [
    "### NOMINAL VALUES FOR CORRELATION TERMS BASED ON THIS NOTEBOOK ###\n",
    "\n",
    "s8_poly_string =  \"S8 free energy polynomial:  \" + (\"\\n\"+\" \"*28).join([\"x_S8_{0}: {{{0}:10.3e}}\".format(i) for i in range(len(s8_polyfits[-1]))])\n",
    "print s8_poly_string.format(*reversed(s8_polyfits[-1]))\n",
    "s2_poly_string =  \"S2 free energy polynomial:  \" + (\"\\n\"+\" \"*28).join([\"x_S2_{0}: {{{0}:10.3e}}\".format(i) for i in range(len(s2_polyfits[-1]))])\n",
    "print s2_poly_string.format(*reversed(s2_polyfits[-1]))\n",
    "T_tr_poly_string = \"T_tr polynomial:\" +\" \"*15 + (\"\\n\"+\" \"*31).join([\"a_{0}: {{{0}:10.3e}}\".format(i) for i in range(len(T_tr_cub))])\n",
    "print T_tr_poly_string.format(*reversed(T_tr_cub))\n",
    "a_poly_string = \"Gaussian height a polynomial:  \" + (\"\\n\"+\" \"*31).join([\"a_{0}: {{{0}:10.3e}}\".format(i) for i in range(len(quad_fit_a))])\n",
    "print a_poly_string.format(*reversed(quad_fit_a))\n",
    "print \"Estimated gaussian parameters:   b:   10\"\n",
    "print \" \"*33 + \"c:   80\"\n",
    "print \"Arbitrarily assigned erf width:  w:   100\""
   ]
  },
  {
   "cell_type": "code",
   "execution_count": null,
   "metadata": {
    "collapsed": true
   },
   "outputs": [],
   "source": []
  }
 ],
 "metadata": {
  "kernelspec": {
   "display_name": "Python 2",
   "language": "python",
   "name": "python2"
  },
  "language_info": {
   "codemirror_mode": {
    "name": "ipython",
    "version": 2
   },
   "file_extension": ".py",
   "mimetype": "text/x-python",
   "name": "python",
   "nbconvert_exporter": "python",
   "pygments_lexer": "ipython2",
   "version": "2.7.2"
  },
  "name": "Fitting 2.ipynb"
 },
 "nbformat": 4,
 "nbformat_minor": 0
}
